{
 "cells": [
  {
   "cell_type": "code",
   "execution_count": 32,
   "metadata": {},
   "outputs": [],
   "source": [
    "import os\n",
    "import cv2\n",
    "import matplotlib.pyplot as plt\n",
    "from glob import glob\n",
    "from PIL import Image\n",
    "import numpy as np"
   ]
  },
  {
   "cell_type": "code",
   "execution_count": 64,
   "metadata": {},
   "outputs": [],
   "source": [
    "name = 'dent_mask_only'\n",
    "\n",
    "ROOT_DIR = os.path.join('/home/pung/repo/', 'kimin-lab')\n",
    "DATA_DIR = os.path.join(ROOT_DIR, 'accida_segmentation', name)\n",
    "TEST_DIR  = os.path.join(DATA_DIR, 'imgs', 'test')\n",
    "RESULTS_DIR = os.path.join(ROOT_DIR, 'test_results_dir', f'test_results_{name}_ssl')\n",
    "CONCAT_DIR = os.path.join(ROOT_DIR, 'concat_dir', f'concat_{name}_ssl')\n",
    "\n",
    "if not os.path.exists(CONCAT_DIR):\n",
    "    os.makedirs(CONCAT_DIR)\n",
    "        "
   ]
  },
  {
   "cell_type": "code",
   "execution_count": null,
   "metadata": {},
   "outputs": [],
   "source": [
    "imgs = []\n",
    "lst_data_file_name = list(sorted(os.listdir(TEST_DIR)))\n",
    "imgs.extend([os.path.join(TEST_DIR, j) for j in lst_data_file_name])\n",
    "imgs"
   ]
  },
  {
   "cell_type": "code",
   "execution_count": 50,
   "metadata": {},
   "outputs": [
    {
     "data": {
      "text/plain": [
       "'img'"
      ]
     },
     "execution_count": 50,
     "metadata": {},
     "output_type": "execute_result"
    }
   ],
   "source": [
    "lst_data_file_name[0][:3]"
   ]
  },
  {
   "cell_type": "code",
   "execution_count": 59,
   "metadata": {},
   "outputs": [],
   "source": [
    "lables = []\n",
    "output = []\n",
    "lst_data_file_name = list(sorted(os.listdir(RESULTS_DIR)))\n",
    "lables.extend([os.path.join(RESULTS_DIR, name) for name in lst_data_file_name if name[:5] == 'label'])\n",
    "output.extend([os.path.join(RESULTS_DIR, name) for name in lst_data_file_name if name[:6] == 'output'])"
   ]
  },
  {
   "cell_type": "code",
   "execution_count": 60,
   "metadata": {},
   "outputs": [],
   "source": [
    "def get_concat_h(im1, im2, im3):\n",
    "    dst = Image.new('RGB', (im1.width + im2.width + im3.width , im1.height))\n",
    "    dst.paste(im1, (0, 0))\n",
    "    dst.paste(im2, (im1.width, 0))\n",
    "    dst.paste(im3, (im1.width + im2.width, 0))\n",
    "    return dst"
   ]
  },
  {
   "cell_type": "code",
   "execution_count": 65,
   "metadata": {},
   "outputs": [],
   "source": [
    "for i in range(len(imgs)):\n",
    "    input_rgb = Image.open(imgs[i]).convert('RGB').resize((512, 512))\n",
    "    lables_rgb = Image.open(lables[i]).convert('RGB')\n",
    "    output_rgb = Image.open(output[i]).convert('RGB')\n",
    "\n",
    "    concat_img = get_concat_h(input_rgb, lables_rgb, output_rgb)\n",
    "    concat_img.save(os.path.join(CONCAT_DIR, f'concat{i:04}.jpg'))"
   ]
  },
  {
   "cell_type": "code",
   "execution_count": null,
   "metadata": {},
   "outputs": [],
   "source": []
  }
 ],
 "metadata": {
  "interpreter": {
   "hash": "1bbb67c5bc7687dcf2eb357ebcbd8359d08e54805a0bbcc44c7757b7c18ce8e8"
  },
  "kernelspec": {
   "display_name": "Python 3.6.5 64-bit ('xai_torch': conda)",
   "name": "python3"
  },
  "language_info": {
   "codemirror_mode": {
    "name": "ipython",
    "version": 3
   },
   "file_extension": ".py",
   "mimetype": "text/x-python",
   "name": "python",
   "nbconvert_exporter": "python",
   "pygments_lexer": "ipython3",
   "version": "3.6.5"
  },
  "orig_nbformat": 4
 },
 "nbformat": 4,
 "nbformat_minor": 2
}
