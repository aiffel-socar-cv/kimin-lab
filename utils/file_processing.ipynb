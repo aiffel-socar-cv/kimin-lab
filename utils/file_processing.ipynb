{
 "cells": [
  {
   "cell_type": "markdown",
   "metadata": {},
   "source": [
    "# 파일 경로 이동\n",
    "\n",
    "src_dir에서 trg_dir 경로로 옮기는 코드입니다.  \n",
    "저희가 받은 폴더의 경로는 다음과 같습니다.  \n",
    "\n",
    "\n",
    "```accida_segmentation/dent  \n",
    "├── test  \n",
    "│   ├── images  \n",
    "│   └── masks  \n",
    "├── train  \n",
    "│   ├── images  \n",
    "│   ├── masks  \n",
    "│   └── train_ann  \n",
    "└── valid  \n",
    "    ├── images  \n",
    "    ├── masks  \n",
    "    └── valid_ann\n",
    "``` \n",
    "\n",
    "하지만 다음과 같이 변경해야됩니다.   \n",
    "\n",
    "```accida_segmentation/dent  \n",
    "├── imgs  \n",
    "│   ├── test  \n",
    "│   ├── train  \n",
    "│   └── val  \n",
    "└── labels  \n",
    "    ├── test  \n",
    "    ├── train  \n",
    "    └── val  \n",
    "```\n",
    "\n",
    "예시>   \n",
    "src_dir = 변경 전 폴더 (기존 폴더 경로로 되어 있음)  \n",
    "trg_dir = 변경 후 폴더 (원하는 형태로 변경)  "
   ]
  },
  {
   "cell_type": "code",
   "execution_count": null,
   "metadata": {},
   "outputs": [],
   "source": [
    "'/home/pung/repo/kimin-lab/checkpoints_dir/checkpoints_stfd-ssl-b4 | 512 | 16-dent/best_model_0.284.pth'[-1]"
   ]
  },
  {
   "cell_type": "code",
   "execution_count": 2,
   "metadata": {},
   "outputs": [
    {
     "name": "stdout",
     "output_type": "stream",
     "text": [
      "# root : ../accida_segmentation/scratch/\n",
      "dir: test\n",
      "dir: train\n",
      "dir: valid\n",
      "# root : ../accida_segmentation/scratch/test\n",
      "dir: images\n",
      "dir: masks\n",
      "# root : ../accida_segmentation/scratch/test/images\n",
      "이동완료: ../accida_segmentation/scratch/test/images\n",
      "# root : ../accida_segmentation/scratch/test/masks\n",
      "이동완료: ../accida_segmentation/scratch/test/masks\n",
      "# root : ../accida_segmentation/scratch/train\n",
      "dir: images\n",
      "dir: masks\n",
      "# root : ../accida_segmentation/scratch/train/images\n",
      "이동완료: ../accida_segmentation/scratch/train/images\n",
      "# root : ../accida_segmentation/scratch/train/masks\n",
      "이동완료: ../accida_segmentation/scratch/train/masks\n",
      "# root : ../accida_segmentation/scratch/valid\n",
      "dir: images\n",
      "dir: masks\n",
      "# root : ../accida_segmentation/scratch/valid/images\n",
      "이동완료: ../accida_segmentation/scratch/valid/images\n",
      "# root : ../accida_segmentation/scratch/valid/masks\n",
      "이동완료: ../accida_segmentation/scratch/valid/masks\n"
     ]
    }
   ],
   "source": [
    "import os\n",
    "import shutil \n",
    "\n",
    "if __name__ == \"__main__\":\n",
    "    src_dir = \"../accida_segmentation/scratch/\"\n",
    "    trg_dir = \"../accida_segmentation/scratch_mask_only/\"\n",
    "\n",
    "    for (root, dirs, files) in os.walk(src_dir):\n",
    "        print(\"# root : \" + root)\n",
    "        if len(dirs) > 0:\n",
    "            for dir_name in dirs:\n",
    "                print(\"dir: \" + dir_name)\n",
    "\n",
    "        if len(files) > 0:\n",
    "            for file_name in files:\n",
    "                img_label = root.split('/')[-1]\n",
    "\n",
    "                if img_label == 'masks':\n",
    "                    img_label = 'labels'\n",
    "                elif img_label == 'images':\n",
    "                    img_label = 'imgs'\n",
    "\n",
    "                split_dir = root.split('/')[-2]\n",
    "                \n",
    "                if split_dir == 'valid':\n",
    "                    split_dir = 'val'\n",
    "\n",
    "                src = os.path.join(root, file_name)\n",
    "                trg = os.path.join(trg_dir, img_label, split_dir, file_name)\n",
    "                \n",
    "                # 폴더가 없으면 생성.\n",
    "                trg_root_dir = os.path.join(trg_dir, img_label, split_dir)\n",
    "\n",
    "                if not os.path.exists(trg_root_dir):\n",
    "                    os.makedirs(trg_root_dir, exist_ok=True)\n",
    "\n",
    "                shutil.move(src, trg)\n",
    "\n",
    "            print(\"이동완료: \" + root)"
   ]
  },
  {
   "cell_type": "markdown",
   "metadata": {},
   "source": [
    "## 파일 제거 처리"
   ]
  },
  {
   "cell_type": "code",
   "execution_count": null,
   "metadata": {},
   "outputs": [],
   "source": [
    "import os\n",
    "\n",
    "file_dict = {'DENT_TEST': [], 'DENT_TRAIN': [], 'DENT_VAL': []}\n",
    "\n",
    "if __name__ == \"__main__\":\n",
    "    root_dir = \"./accida_segmentation/remove_dent/\"\n",
    "    for (root, dirs, files) in os.walk(root_dir):\n",
    "        print(\"# root : \" + root)\n",
    "        if len(dirs) > 0:\n",
    "            for dir_name in dirs:\n",
    "                print(\"dir: \" + dir_name)\n",
    "\n",
    "        if len(files) > 0:\n",
    "            img_label = root.split('/')[-1]\n",
    "            for file_name in files:\n",
    "                print(\"file: \" + file_name)\n",
    "                file_dict[img_label].append(file_name)"
   ]
  },
  {
   "cell_type": "code",
   "execution_count": 50,
   "metadata": {},
   "outputs": [
    {
     "name": "stdout",
     "output_type": "stream",
     "text": [
      "dent의 train img 개수:  2132\n",
      "dent의 train label 개수:  2132\n"
     ]
    }
   ],
   "source": [
    "img_path = '/home/pung/repo/kimin-lab/accida_segmentation/dent/imgs/train'\n",
    "label_path = '/home/pung/repo/kimin-lab/accida_segmentation/dent/labels/train'\n",
    "print('dent의 train img 개수: ', len(os.listdir(img_path)))\n",
    "print('dent의 train label 개수: ', len(os.listdir(label_path)))"
   ]
  },
  {
   "cell_type": "code",
   "execution_count": 51,
   "metadata": {},
   "outputs": [],
   "source": [
    "change_key = {'DENT_TEST':'test', 'DENT_TRAIN':'train', 'DENT_VAL':'val'}\n",
    "\n",
    "new_file_dict = dict((change_key[key], value) for (key, value) in file_dict.items())"
   ]
  },
  {
   "cell_type": "code",
   "execution_count": null,
   "metadata": {},
   "outputs": [],
   "source": [
    "if __name__ == \"__main__\":\n",
    "    root_dir = \"./accida_segmentation/dent/\"\n",
    "    for (root, dirs, files) in os.walk(root_dir):\n",
    "        print(\"# root : \" + root)\n",
    "        if len(dirs) > 0:\n",
    "            for dir_name in dirs:\n",
    "                print(\"dir: \" + dir_name)\n",
    "\n",
    "        if len(files) > 0:\n",
    "            img_label = root.split('/')[-1]\n",
    "            for file_name in files:\n",
    "                src = os.path.join(root, file_name)\n",
    "                if file_name not in new_file_dict[img_label]:\n",
    "                    os.remove(src)"
   ]
  },
  {
   "cell_type": "code",
   "execution_count": 53,
   "metadata": {},
   "outputs": [
    {
     "name": "stdout",
     "output_type": "stream",
     "text": [
      "dent의 train img 개수:  499\n",
      "dent의 train label 개수:  499\n"
     ]
    }
   ],
   "source": [
    "img_path = '/home/pung/repo/kimin-lab/accida_segmentation/dent/imgs/train'\n",
    "label_path = '/home/pung/repo/kimin-lab/accida_segmentation/dent/labels/train'\n",
    "print('dent의 train img 개수: ', len(os.listdir(img_path)))\n",
    "print('dent의 train label 개수: ', len(os.listdir(label_path)))"
   ]
  },
  {
   "cell_type": "code",
   "execution_count": null,
   "metadata": {},
   "outputs": [],
   "source": []
  }
 ],
 "metadata": {
  "interpreter": {
   "hash": "1bbb67c5bc7687dcf2eb357ebcbd8359d08e54805a0bbcc44c7757b7c18ce8e8"
  },
  "kernelspec": {
   "display_name": "Python 3.6.5 64-bit ('xai_torch': conda)",
   "name": "python3"
  },
  "language_info": {
   "codemirror_mode": {
    "name": "ipython",
    "version": 3
   },
   "file_extension": ".py",
   "mimetype": "text/x-python",
   "name": "python",
   "nbconvert_exporter": "python",
   "pygments_lexer": "ipython3",
   "version": "3.6.5"
  },
  "orig_nbformat": 4
 },
 "nbformat": 4,
 "nbformat_minor": 2
}
